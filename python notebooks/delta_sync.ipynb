{
 "cells": [
  {
   "cell_type": "code",
   "execution_count": null,
   "id": "3563ed41",
   "metadata": {},
   "outputs": [],
   "source": [
    "from pyspark.sql import SparkSession\n",
    "from pyspark.sql.functions import col"
   ]
  },
  {
   "cell_type": "code",
   "execution_count": null,
   "id": "fb494bb8",
   "metadata": {},
   "outputs": [],
   "source": [
    "# ── CONFIG ─────────────────────────────────────────────────────────────────────\n",
    "spark = SparkSession.builder.getOrCreate()\n",
    "\n",
    "# Source (East) and target (West) Lakehouse connection strings\n",
    "east_path = \"abfss://<container>@<east-account>.dfs.core.windows.net/lakehouse/mydb.db\"\n",
    "west_path = \"abfss://<container>@<west-account>.dfs.core.windows.net/lakehouse/mydb.db\""
   ]
  },
  {
   "cell_type": "code",
   "execution_count": null,
   "id": "50c71b32",
   "metadata": {},
   "outputs": [],
   "source": [
    "# Last sync timestamp (persist this somewhere: KeyVault, file, table)\n",
    "last_sync = \"2025-07-20T12:00:00Z\""
   ]
  },
  {
   "cell_type": "code",
   "execution_count": null,
   "id": "779e4cf3",
   "metadata": {},
   "outputs": [],
   "source": [
    "# ── LOAD DELTA FROM EAST ────────────────────────────────────────────────────────\n",
    "east_df = (\n",
    "    spark.read.format(\"delta\")\n",
    "    .load(f\"{east_path}/my_table\")\n",
    "    .filter(col(\"modified_date\") > last_sync)\n",
    ")\n"
   ]
  },
  {
   "cell_type": "code",
   "execution_count": null,
   "id": "a80e023e",
   "metadata": {},
   "outputs": [],
   "source": [
    "# ── UPSERT INTO WEST ───────────────────────────────────────────────────────────\n",
    "from delta.tables import DeltaTable\n",
    "\n",
    "# ensure target table exists\n",
    "if not DeltaTable.isDeltaTable(spark, f\"{west_path}/my_table\"):\n",
    "    east_df.write.format(\"delta\").mode(\"overwrite\").save(f\"{west_path}/my_table\")\n",
    "else:\n",
    "    dt = DeltaTable.forPath(spark, f\"{west_path}/my_table\")\n",
    "    dt.alias(\"tgt\") \\\n",
    "      .merge(east_df.alias(\"src\"), \"tgt.id = src.id\") \\\n",
    "      .whenMatchedUpdateAll() \\\n",
    "      .whenNotMatchedInsertAll() \\\n",
    "      .execute()\n",
    "\n",
    "\n"
   ]
  },
  {
   "cell_type": "code",
   "execution_count": null,
   "id": "736912cd",
   "metadata": {},
   "outputs": [],
   "source": [
    "# ── UPDATE last_sync (to now) ──────────────────────────────────────────────────\n",
    "# e.g. write new timestamp to blob or KeyVault"
   ]
  }
 ],
 "metadata": {
  "language_info": {
   "name": "python"
  }
 },
 "nbformat": 4,
 "nbformat_minor": 5
}
