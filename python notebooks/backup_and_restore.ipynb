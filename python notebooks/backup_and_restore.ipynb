{
 "cells": [
  {
   "cell_type": "code",
   "execution_count": null,
   "id": "a86b49be",
   "metadata": {},
   "outputs": [],
   "source": [
    "import os\n",
    "import requests\n",
    "from msal import ConfidentialClientApplication"
   ]
  },
  {
   "cell_type": "code",
   "execution_count": null,
   "id": "32a4180f",
   "metadata": {},
   "outputs": [],
   "source": [
    "# ── CONFIG ─────────────────────────────────────────────────────────────────────\n",
    "TENANT_ID       = os.getenv(\"AZ_TENANT_ID\")\n",
    "CLIENT_ID       = os.getenv(\"AZ_CLIENT_ID\")\n",
    "CLIENT_SECRET   = os.getenv(\"AZ_CLIENT_SECRET\")\n",
    "FABRIC_SUB_ID   = os.getenv(\"AZ_SUBSCRIPTION_ID\")\n",
    "\n",
    "WEST_REGION     = \"West US\"\n",
    "EAST_REGION     = \"East US\"\n",
    "\n",
    "# Scopes for Fabric REST API\n",
    "SCOPE           = \"https://management.azure.com/.default\"\n",
    "API_VERSION     = \"2024-05-01-preview\""
   ]
  },
  {
   "cell_type": "code",
   "execution_count": null,
   "id": "1c3d10ad",
   "metadata": {},
   "outputs": [],
   "source": [
    "# ── AUTH ────────────────────────────────────────────────────────────────────────\n",
    "app = ConfidentialClientApplication(\n",
    "    CLIENT_ID, authority=f\"https://login.microsoftonline.com/{TENANT_ID}\", client_credential=CLIENT_SECRET\n",
    ")\n",
    "token = app.acquire_token_for_client([SCOPE])[\"access_token\"]\n",
    "HEADERS = {\n",
    "    \"Authorization\": f\"Bearer {token}\",\n",
    "    \"Content-Type\": \"application/json\"\n",
    "}"
   ]
  },
  {
   "cell_type": "code",
   "execution_count": null,
   "id": "b87e2940",
   "metadata": {},
   "outputs": [],
   "source": [
    "# ── STEP 1: LIST WORKSPACES IN WEST US ───────────────────────────────────────────\n",
    "url_list = (\n",
    "    f\"https://management.azure.com/subscriptions/{FABRIC_SUB_ID}\"\n",
    "    f\"/providers/Microsoft.Fabric/workspaces?api-version={API_VERSION}&$filter=location eq '{WEST_REGION}'\"\n",
    ")\n",
    "resp = requests.get(url_list, headers=HEADERS)\n",
    "resp.raise_for_status()\n",
    "workspaces = resp.json()[\"value\"]"
   ]
  },
  {
   "cell_type": "code",
   "execution_count": null,
   "id": "477cca7c",
   "metadata": {},
   "outputs": [],
   "source": [
    "# ── STEP 2: EXPORT ARTIFACTS ────────────────────────────────────────────────────\n",
    "# For each workspace, export Git-backed content (if enabled) or use export APIs per artifact type.\n",
    "# Here’s a general pattern—customize per artifact:\n",
    "for ws in workspaces:\n",
    "    ws_name = ws[\"name\"]\n",
    "    resource_group = ws[\"id\"].split(\"/\")[4]\n",
    "    print(f\"Exporting workspace {ws_name}...\")\n",
    "    export_url = (\n",
    "        f\"https://management.azure.com{ws['id']}/export?api-version={API_VERSION}\"\n",
    "    )\n",
    "    r2 = requests.post(export_url, headers=HEADERS, json={})\n",
    "    r2.raise_for_status()\n",
    "    job = r2.json()\n",
    "    print(\"  Export job queued:\", job[\"name\"])\n",
    "    # You’d poll until job finishes and download a .zip"
   ]
  },
  {
   "cell_type": "code",
   "execution_count": null,
   "id": "fda24c6b",
   "metadata": {},
   "outputs": [],
   "source": [
    "# ── STEP 3: PROVISION EAST US WORKSPACES ─────────────────────────────────────────\n",
    "for ws in workspaces:\n",
    "    ws_name = ws[\"name\"]\n",
    "    rg = ws[\"id\"].split(\"/\")[4]\n",
    "    print(f\"Creating workspace {ws_name}-dr in {EAST_REGION}...\")\n",
    "    create_url = (\n",
    "        f\"https://management.azure.com/subscriptions/{FABRIC_SUB_ID}\"\n",
    "        f\"/resourceGroups/{rg}/providers/Microsoft.Fabric/workspaces/{ws_name}-dr\"\n",
    "        f\"?api-version={API_VERSION}\"\n",
    "    )\n",
    "    payload = {\n",
    "        \"location\": EAST_REGION,\n",
    "        \"properties\": {\n",
    "            \"friendlyName\": ws_name + \"-dr\",\n",
    "            \"capacityName\": \"<east-capacity-name>\",\n",
    "            # link Git repo if desired...\n",
    "        }\n",
    "    }\n",
    "    r3 = requests.put(create_url, headers=HEADERS, json=payload)\n",
    "    r3.raise_for_status()\n",
    "    print(f\"  Workspace {ws_name}-dr provisioning started\")\n",
    "\n",
    "\n"
   ]
  },
  {
   "cell_type": "code",
   "execution_count": null,
   "id": "a2ea65cb",
   "metadata": {},
   "outputs": [],
   "source": [
    "# ── STEP 4: IMPORT ARTIFACTS INTO EAST ───────────────────────────────────────────\n",
    "# After the DR workspaces exist and exports are downloaded to ./exports:\n",
    "for ws in workspaces:\n",
    "    dr_name = ws[\"name\"] + \"-dr\"\n",
    "    zip_path = f\"./exports/{ws['name']}.zip\"\n",
    "    print(f\"Importing into {dr_name} from {zip_path}...\")\n",
    "    import_url = (\n",
    "        f\"https://management.azure.com/subscriptions/{FABRIC_SUB_ID}\"\n",
    "        f\"/resourceGroups/{rg}/providers/Microsoft.Fabric/workspaces/{dr_name}/import\"\n",
    "        f\"?api-version={API_VERSION}\"\n",
    "    )\n",
    "    with open(zip_path, \"rb\") as fh:\n",
    "        files = {\"file\": fh}\n",
    "        r4 = requests.post(import_url, headers={\"Authorization\":HEADERS[\"Authorization\"]}, files=files)\n",
    "    r4.raise_for_status()\n",
    "    print(\"  Import queued:\", r4.json()[\"name\"])"
   ]
  },
  {
   "cell_type": "code",
   "execution_count": null,
   "id": "4062c134",
   "metadata": {},
   "outputs": [],
   "source": []
  }
 ],
 "metadata": {
  "kernelspec": {
   "display_name": "Python 3",
   "language": "python",
   "name": "python3"
  },
  "language_info": {
   "name": "python",
   "version": "3.13.3"
  }
 },
 "nbformat": 4,
 "nbformat_minor": 5
}
